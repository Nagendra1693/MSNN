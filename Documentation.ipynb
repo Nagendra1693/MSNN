{
 "cells": [
  {
   "cell_type": "markdown",
   "metadata": {
    "id": "ZGPweeOqBy4s"
   },
   "source": [
    "# Multilayer Extreme Learning Machine with Subnetwork nodes\n",
    "\n",
    "Extreme Learining Machine is a single layer feed forward network. According to the paper mentioned below, we can replace the hidden node with subwork formed by several hidden nodes which naturally form s biological learning. There are few differences between the proposed model and the conventional ELM. \n",
    "\n",
    "&nbsp;&nbsp;&nbsp;&nbsp;1.Hidden nodes are generated randomly one by one in ELM. Subnetwork nodes are used in the proposed model instead of single hidden node.<br>\n",
    "&nbsp;&nbsp;&nbsp;&nbsp;2.Number of hidden nodes and diemension if outputs in ELM are independent. In the proposed model, dimension of general nodes and outputs are also independent but number of hidden nodes in a general neuron should be equal to the dinmension of the outputs.<br>\n",
    "\n",
    "## Highlights\n",
    "&nbsp;&nbsp;&nbsp;&nbsp;a.Efficient matrix math implementation<br>\n",
    "&nbsp;&nbsp;&nbsp;&nbsp;b.GPU acceleration is included.<br>\n",
    "&nbsp;&nbsp;&nbsp;&nbsp;c.This is extremely fast when compared to other deeplearing autoencoders.<br>\n",
    "## Main classes\n",
    "&nbsp;&nbsp;&nbsp;&nbsp;a.MSNN for implementing Multilayer ELM with subnetworks<br>\n",
    "&nbsp;&nbsp;&nbsp;&nbsp;b. ELM for the classification of data.<br>\n",
    "\n",
    "## Example usage:\n",
    "<code>m = MSNN()\n",
    "m.fit(x = x_train_m, y = y_train_m, d = 41, l_max = 2, act_fn = 'sigmoid', coefficient = 20)\n",
    "x_train_new = m.transform(x_train_m)\n",
    "x_test_new = m.transform(x_test_m)\n",
    "\n",
    "mm_scaler = MinMaxScaler()\n",
    "x_train_norm = mm_scaler.fit_transform(x_train_new)\n",
    "x_test_norm = mm_scaler.transform(x_test_new)\n",
    "<br>elm = ELM(hidden_nodes = 1000, activation = 'relu')\n",
    "_, train_acc = elm.fit(x_train_norm, y_train)\n",
    "_, test_acc = elm.evaluate(x_test_norm, y_test)\n",
    "print('\\tTraining Accuracy : ', train_acc)\n",
    "print('\\tTesting Accuracy : ', test_acc)\n",
    "</code>\n",
    "\n",
    "\n",
    "## References\n",
    "Guang-Bin Huang, Qin-Yu Zhu and Chee-Kheong Siew, \"Extreme learning machine: a new learning scheme of feedforward neural networks,\" 2004 IEEE International Joint Conference on Neural Networks (IEEE Cat. No.04CH37541), Budapest, Hungary, 2004, pp. 985-990 vol.2, doi: 10.1109/IJCNN.2004.1380068.<br>\n",
    "Yang Y, Wu QM. Multilayer Extreme Learning Machine With Subnetwork Nodes for Representation Learning. IEEE Trans Cybern. 2016 Nov;46(11):2570-2583. doi: 10.1109/TCYB.2015.2481713. Epub 2015 Oct 9. PMID: 26462250.<br>\n",
    "https://personal.ntu.edu.sg/egbhuang/elm_codes.html<br>\n",
    "https://documen.tician.de/pycuda/index.html<br>\n",
    "https://scikit-cuda.readthedocs.io/en/latest/generated/skcuda.linalg.inv.html<br>\n",
    "https://en.wikipedia.org/wiki/Moore%E2%80%93Penrose_inverse\n",
    "\n"
   ]
  }
 ],
 "metadata": {
  "colab": {
   "collapsed_sections": [],
   "name": "Documentation.ipynb",
   "provenance": []
  },
  "kernelspec": {
   "display_name": "Python 3",
   "language": "python",
   "name": "python3"
  },
  "language_info": {
   "codemirror_mode": {
    "name": "ipython",
    "version": 3
   },
   "file_extension": ".py",
   "mimetype": "text/x-python",
   "name": "python",
   "nbconvert_exporter": "python",
   "pygments_lexer": "ipython3",
   "version": "3.7.4"
  }
 },
 "nbformat": 4,
 "nbformat_minor": 1
}
